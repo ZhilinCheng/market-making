{
 "cells": [
  {
   "cell_type": "code",
   "execution_count": 3,
   "id": "79f5f90b",
   "metadata": {},
   "outputs": [
    {
     "name": "stdout",
     "output_type": "stream",
     "text": [
      "Final P&L: 49.00\n"
     ]
    }
   ],
   "source": [
    "import numpy as np\n",
    "\n",
    "# Parameters\n",
    "sigma = 2.0   # Market volatility\n",
    "gamma = 0.1   # Risk aversion coefficient\n",
    "k = 1.5       # Order arrival intensity parameter\n",
    "S = 100.0     # Initial market price\n",
    "q = 0         # Initial inventory\n",
    "cash = 0.0    # Initial cash position\n",
    "\n",
    "np.random.seed(0)\n",
    "\n",
    "for t in range(100):\n",
    "    # Calculate optimal bid and ask price distances\n",
    "    delta_bid = 1 / k + gamma * sigma**2 * q / 2\n",
    "    delta_ask = 1 / k - gamma * sigma**2 * q / 2\n",
    "    bid_price = S - delta_bid\n",
    "    ask_price = S + delta_ask\n",
    "    \n",
    "    # Simulate market price movement (Brownian motion)\n",
    "    S += sigma * np.random.randn() * 0.1  # Small step Brownian motion\n",
    "\n",
    "    # Simulate order executions\n",
    "    if np.random.rand() < np.exp(-k * delta_bid):\n",
    "        # Buy order executed\n",
    "        q += 1\n",
    "        cash -= bid_price\n",
    "    if np.random.rand() < np.exp(-k * delta_ask):\n",
    "        # Sell order executed\n",
    "        q -= 1\n",
    "        cash += ask_price\n",
    "\n",
    "# Final P&L calculation\n",
    "final_pnl = cash + q * S\n",
    "print(f\"Final P&L: {final_pnl:.2f}\")\n",
    "\n"
   ]
  },
  {
   "cell_type": "code",
   "execution_count": null,
   "id": "4ad4fbef",
   "metadata": {},
   "outputs": [],
   "source": []
  }
 ],
 "metadata": {
  "kernelspec": {
   "display_name": "Python 3 (ipykernel)",
   "language": "python",
   "name": "python3"
  },
  "language_info": {
   "codemirror_mode": {
    "name": "ipython",
    "version": 3
   },
   "file_extension": ".py",
   "mimetype": "text/x-python",
   "name": "python",
   "nbconvert_exporter": "python",
   "pygments_lexer": "ipython3",
   "version": "3.11.5"
  }
 },
 "nbformat": 4,
 "nbformat_minor": 5
}
